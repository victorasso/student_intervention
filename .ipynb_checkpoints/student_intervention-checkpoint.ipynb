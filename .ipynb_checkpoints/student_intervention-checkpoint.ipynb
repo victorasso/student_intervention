{
 "cells": [
  {
   "cell_type": "markdown",
   "metadata": {},
   "source": [
    "# Machine Learning Engineer Nanodegree\n",
    "## Supervised Learning\n",
    "## Project 2: Building a Student Intervention System"
   ]
  },
  {
   "cell_type": "markdown",
   "metadata": {},
   "source": [
    "Welcome to the second project of the Machine Learning Engineer Nanodegree! In this notebook, some template code has already been provided for you, and it will be your job to implement the additional functionality necessary to successfully complete this project. Sections that begin with **'Implementation'** in the header indicate that the following block of code will require additional functionality which you must provide. Instructions will be provided for each section and the specifics of the implementation are marked in the code block with a `'TODO'` statement. Please be sure to read the instructions carefully!\n",
    "\n",
    "In addition to implementing code, there will be questions that you must answer which relate to the project and your implementation. Each section where you will answer a question is preceded by a **'Question X'** header. Carefully read each question and provide thorough answers in the following text boxes that begin with **'Answer:'**. Your project submission will be evaluated based on your answers to each of the questions and the implementation you provide.  \n",
    "\n",
    ">**Note:** Code and Markdown cells can be executed using the **Shift + Enter** keyboard shortcut. In addition, Markdown cells can be edited by typically double-clicking the cell to enter edit mode."
   ]
  },
  {
   "cell_type": "markdown",
   "metadata": {},
   "source": [
    "### Question 1 - Classification vs. Regression\n",
    "*Your goal for this project is to identify students who might need early intervention before they fail to graduate. Which type of supervised learning problem is this, classification or regression? Why?*"
   ]
  },
  {
   "cell_type": "markdown",
   "metadata": {},
   "source": [
    "**Answer: ** Classification, because the output will be binary (the student may pass or fail to graduate). There are no underlying values between these 2 results."
   ]
  },
  {
   "cell_type": "markdown",
   "metadata": {},
   "source": [
    "## Exploring the Data\n",
    "Run the code cell below to load necessary Python libraries and load the student data. Note that the last column from this dataset, `'passed'`, will be our target label (whether the student graduated or didn't graduate). All other columns are features about each student."
   ]
  },
  {
   "cell_type": "code",
   "execution_count": 114,
   "metadata": {
    "collapsed": false
   },
   "outputs": [
    {
     "name": "stdout",
     "output_type": "stream",
     "text": [
      "Student data read successfully!\n"
     ]
    }
   ],
   "source": [
    "# Import libraries\n",
    "import numpy as np\n",
    "import pandas as pd \n",
    "from time import time\n",
    "from sklearn.metrics import f1_score\n",
    "from IPython.display import display\n",
    "\n",
    "# Read student data\n",
    "student_data = pd.read_csv(\"student-data.csv\")\n",
    "print \"Student data read successfully!\""
   ]
  },
  {
   "cell_type": "markdown",
   "metadata": {},
   "source": [
    "### Implementation: Data Exploration\n",
    "Let's begin by investigating the dataset to determine how many students we have information on, and learn about the graduation rate among these students. In the code cell below, you will need to compute the following:\n",
    "- The total number of students, `n_students`.\n",
    "- The total number of features for each student, `n_features`.\n",
    "- The number of those students who passed, `n_passed`.\n",
    "- The number of those students who failed, `n_failed`.\n",
    "- The graduation rate of the class, `grad_rate`, in percent (%)."
   ]
  },
  {
   "cell_type": "code",
   "execution_count": 115,
   "metadata": {
    "collapsed": false
   },
   "outputs": [
    {
     "name": "stdout",
     "output_type": "stream",
     "text": [
      "Total number of students: 395\n",
      "Number of features: 30\n",
      "Number of students who passed: 265\n",
      "Graduation rate of the class: 67.09%\n"
     ]
    }
   ],
   "source": [
    "# I removed my describe and counter functions from the last submission, now i'm using only expressions that returns\n",
    "# just what the problem asks me, but you got to admit, i got it right from the first time.\n",
    "\n",
    "# TODO: Calculate number of students\n",
    "n_students = student_data.passed.count() # i used the passed column, could be any other, ex: Pstatus will give the same value\n",
    "\n",
    "# TODO: Calculate number of features\n",
    "n_features = len(student_data.columns)-1 # 1 column is the passed / failed\n",
    "\n",
    "# TODO: Calculate passing students\n",
    "n_passed = student_data.passed.value_counts()['yes']\n",
    "\n",
    "# TODO: Calculate failing students\n",
    "n_failed = student_data.passed.value_counts()['no']\n",
    "\n",
    "# TODO: Calculate graduation rate\n",
    "from __future__ import division\n",
    "grad_rate = n_passed / n_students * 100\n",
    "\n",
    "# Print the results\n",
    "print \"Total number of students: {}\".format(n_students)\n",
    "print \"Number of features: {}\".format(n_features)\n",
    "print \"Number of students who passed: {}\".format(n_passed)\n",
    "print \"Graduation rate of the class: {:.2f}%\".format(grad_rate)"
   ]
  },
  {
   "cell_type": "markdown",
   "metadata": {},
   "source": [
    "## Preparing the Data\n",
    "In this section, we will prepare the data for modeling, training and testing.\n",
    "\n",
    "### Identify feature and target columns\n",
    "It is often the case that the data you obtain contains non-numeric features. This can be a problem, as most machine learning algorithms expect numeric data to perform computations with.\n",
    "\n",
    "Run the code cell below to separate the student data into feature and target columns to see if any features are non-numeric."
   ]
  },
  {
   "cell_type": "code",
   "execution_count": 116,
   "metadata": {
    "collapsed": false
   },
   "outputs": [
    {
     "name": "stdout",
     "output_type": "stream",
     "text": [
      "Feature columns:\n",
      "['school', 'sex', 'age', 'address', 'famsize', 'Pstatus', 'Medu', 'Fedu', 'Mjob', 'Fjob', 'reason', 'guardian', 'traveltime', 'studytime', 'failures', 'schoolsup', 'famsup', 'paid', 'activities', 'nursery', 'higher', 'internet', 'romantic', 'famrel', 'freetime', 'goout', 'Dalc', 'Walc', 'health', 'absences']\n",
      "\n",
      "Target column: passed\n",
      "\n",
      "Feature values:\n",
      "  school sex  age address famsize Pstatus  Medu  Fedu     Mjob      Fjob  \\\n",
      "0     GP   F   18       U     GT3       A     4     4  at_home   teacher   \n",
      "1     GP   F   17       U     GT3       T     1     1  at_home     other   \n",
      "2     GP   F   15       U     LE3       T     1     1  at_home     other   \n",
      "3     GP   F   15       U     GT3       T     4     2   health  services   \n",
      "4     GP   F   16       U     GT3       T     3     3    other     other   \n",
      "\n",
      "    ...    higher internet  romantic  famrel  freetime goout Dalc Walc health  \\\n",
      "0   ...       yes       no        no       4         3     4    1    1      3   \n",
      "1   ...       yes      yes        no       5         3     3    1    1      3   \n",
      "2   ...       yes      yes        no       4         3     2    2    3      3   \n",
      "3   ...       yes      yes       yes       3         2     2    1    1      5   \n",
      "4   ...       yes       no        no       4         3     2    1    2      5   \n",
      "\n",
      "  absences  \n",
      "0        6  \n",
      "1        4  \n",
      "2       10  \n",
      "3        2  \n",
      "4        4  \n",
      "\n",
      "[5 rows x 30 columns]\n"
     ]
    }
   ],
   "source": [
    "# Extract feature columns\n",
    "feature_cols = list(student_data.columns[:-1])\n",
    "\n",
    "# Extract target column 'passed'\n",
    "target_col = student_data.columns[-1] \n",
    "\n",
    "# Show the list of columns\n",
    "print \"Feature columns:\\n{}\".format(feature_cols)\n",
    "print \"\\nTarget column: {}\".format(target_col)\n",
    "\n",
    "# Separate the data into feature data and target data (X_all and y_all, respectively)\n",
    "X_all = student_data[feature_cols]\n",
    "y_all = student_data[target_col]\n",
    "\n",
    "# Show the feature information by printing the first five rows\n",
    "print \"\\nFeature values:\"\n",
    "print X_all.head()"
   ]
  },
  {
   "cell_type": "markdown",
   "metadata": {},
   "source": [
    "### Preprocess Feature Columns\n",
    "\n",
    "As you can see, there are several non-numeric columns that need to be converted! Many of them are simply `yes`/`no`, e.g. `internet`. These can be reasonably converted into `1`/`0` (binary) values.\n",
    "\n",
    "Other columns, like `Mjob` and `Fjob`, have more than two values, and are known as _categorical variables_. The recommended way to handle such a column is to create as many columns as possible values (e.g. `Fjob_teacher`, `Fjob_other`, `Fjob_services`, etc.), and assign a `1` to one of them and `0` to all others.\n",
    "\n",
    "These generated columns are sometimes called _dummy variables_, and we will use the [`pandas.get_dummies()`](http://pandas.pydata.org/pandas-docs/stable/generated/pandas.get_dummies.html?highlight=get_dummies#pandas.get_dummies) function to perform this transformation. Run the code cell below to perform the preprocessing routine discussed in this section."
   ]
  },
  {
   "cell_type": "code",
   "execution_count": 117,
   "metadata": {
    "collapsed": false
   },
   "outputs": [
    {
     "name": "stdout",
     "output_type": "stream",
     "text": [
      "Processed feature columns (48 total features):\n",
      "['school_GP', 'school_MS', 'sex_F', 'sex_M', 'age', 'address_R', 'address_U', 'famsize_GT3', 'famsize_LE3', 'Pstatus_A', 'Pstatus_T', 'Medu', 'Fedu', 'Mjob_at_home', 'Mjob_health', 'Mjob_other', 'Mjob_services', 'Mjob_teacher', 'Fjob_at_home', 'Fjob_health', 'Fjob_other', 'Fjob_services', 'Fjob_teacher', 'reason_course', 'reason_home', 'reason_other', 'reason_reputation', 'guardian_father', 'guardian_mother', 'guardian_other', 'traveltime', 'studytime', 'failures', 'schoolsup', 'famsup', 'paid', 'activities', 'nursery', 'higher', 'internet', 'romantic', 'famrel', 'freetime', 'goout', 'Dalc', 'Walc', 'health', 'absences']\n"
     ]
    }
   ],
   "source": [
    "def preprocess_features(X):\n",
    "    ''' Preprocesses the student data and converts non-numeric binary variables into\n",
    "        binary (0/1) variables. Converts categorical variables into dummy variables. '''\n",
    "    \n",
    "    # Initialize new output DataFrame\n",
    "    output = pd.DataFrame(index = X.index)\n",
    "\n",
    "    # Investigate each feature column for the data\n",
    "    for col, col_data in X.iteritems():\n",
    "        \n",
    "        # If data type is non-numeric, replace all yes/no values with 1/0\n",
    "        if col_data.dtype == object:\n",
    "            col_data = col_data.replace(['yes', 'no'], [1, 0])\n",
    "\n",
    "        # If data type is categorical, convert to dummy variables\n",
    "        if col_data.dtype == object:\n",
    "            # Example: 'school' => 'school_GP' and 'school_MS'\n",
    "            col_data = pd.get_dummies(col_data, prefix = col)  \n",
    "        \n",
    "        # Collect the revised columns\n",
    "        output = output.join(col_data)\n",
    "    \n",
    "    return output\n",
    "\n",
    "X_all = preprocess_features(X_all)\n",
    "print \"Processed feature columns ({} total features):\\n{}\".format(len(X_all.columns), list(X_all.columns))"
   ]
  },
  {
   "cell_type": "markdown",
   "metadata": {},
   "source": [
    "### Implementation: Training and Testing Data Split\n",
    "So far, we have converted all _categorical_ features into numeric values. For the next step, we split the data (both features and corresponding labels) into training and test sets. In the following code cell below, you will need to implement the following:\n",
    "- Randomly shuffle and split the data (`X_all`, `y_all`) into training and testing subsets.\n",
    "  - Use 300 training points (approximately 75%) and 95 testing points (approximately 25%).\n",
    "  - Set a `random_state` for the function(s) you use, if provided.\n",
    "  - Store the results in `X_train`, `X_test`, `y_train`, and `y_test`."
   ]
  },
  {
   "cell_type": "code",
   "execution_count": 118,
   "metadata": {
    "collapsed": false
   },
   "outputs": [
    {
     "name": "stdout",
     "output_type": "stream",
     "text": [
      "Training set has 300 samples.\n",
      "Testing set has 95 samples.\n"
     ]
    }
   ],
   "source": [
    "# TODO: Import any additional functionality you may need here\n",
    "from sklearn.cross_validation import train_test_split\n",
    "\n",
    "# TODO: Set the number of training points\n",
    "num_train = 300\n",
    "\n",
    "# Set the number of testing points\n",
    "num_test = X_all.shape[0] - num_train\n",
    "\n",
    "# TODO: Shuffle and split the dataset into the number of training and testing points above\n",
    "X_train, X_test, y_train, y_test  = train_test_split(X_all, y_all, train_size=num_train, stratify=y_all, test_size=0.24, random_state=42)\n",
    "#X_train, X_test, y_train, y_test = train_test_split(X_all, y_all, train_size=num_train, test_size=num_test, random_state=42)\n",
    "\n",
    "# Show the results of the split\n",
    "print \"Training set has {} samples.\".format(X_train.shape[0])\n",
    "print \"Testing set has {} samples.\".format(X_test.shape[0])"
   ]
  },
  {
   "cell_type": "markdown",
   "metadata": {},
   "source": [
    "## Training and Evaluating Models\n",
    "In this section, you will choose 3 supervised learning models that are appropriate for this problem and available in `scikit-learn`. You will first discuss the reasoning behind choosing these three models by considering what you know about the data and each model's strengths and weaknesses. You will then fit the model to varying sizes of training data (100 data points, 200 data points, and 300 data points) and measure the F<sub>1</sub> score. You will need to produce three tables (one for each model) that shows the training set size, training time, prediction time, F<sub>1</sub> score on the training set, and F<sub>1</sub> score on the testing set.\n",
    "\n",
    "**The following supervised learning models are currently available in** [`scikit-learn`](http://scikit-learn.org/stable/supervised_learning.html) **that you may choose from:**\n",
    "- Gaussian Naive Bayes (GaussianNB)\n",
    "- Decision Trees\n",
    "- Ensemble Methods (Bagging, AdaBoost, Random Forest, Gradient Boosting)\n",
    "- K-Nearest Neighbors (KNeighbors)\n",
    "- Stochastic Gradient Descent (SGDC)\n",
    "- Support Vector Machines (SVM)\n",
    "- Logistic Regression"
   ]
  },
  {
   "cell_type": "markdown",
   "metadata": {},
   "source": [
    "### Question 2 - Model Application\n",
    "*List three supervised learning models that are appropriate for this problem. For each model chosen*\n",
    "- Describe one real-world application in industry where the model can be applied. *(You may need to do a small bit of research for this — give references!)* \n",
    "- What are the strengths of the model; when does it perform well? \n",
    "- What are the weaknesses of the model; when does it perform poorly?\n",
    "- What makes this model a good candidate for the problem, given what you know about the data?"
   ]
  },
  {
   "cell_type": "markdown",
   "metadata": {},
   "source": [
    "**Answer: ** Naive Bayes, SVM and Random Forest were chosen.\n",
    "\n",
    "## Naive Bayes\n",
    "\n",
    "#### Naive Bayes applicability:\n",
    "The emails providers that we use today utilize this method to classify emails as spams and no spams. This model was selected because it utilizes a naive classifier, it utilizes the Bayes rule to get a subset of words from the mail and uses a bag of words previously trainned in the model to take its decision, this will serve as base for the spam / no spam guess as you can see in this article here:\n",
    "\n",
    "https://web.stanford.edu/class/cs124/lec/naivebayes.pdf\n",
    "\n",
    "\n",
    "#### Naive Bayes strenghts: \n",
    "One of the fastest models available;\n",
    "\n",
    "It takes features independently. In the end, all features contribute to the probability of the output (Naive);\n",
    "\n",
    "Performs better in categorical values;\n",
    "\n",
    "#### Naive Bayes Weaknesses:\n",
    "It doesn't consider records from test data which weren't present in the training data. Proper data treatment could reduce the amount of disconsidered values.\n",
    "\n",
    "Does not perform well in numerical values;\n",
    "\n",
    "#### Why it's a good model for this problem:\n",
    "Most of our data is categorical, so we can expect a good performance with a low computational costs.\n",
    "\n",
    "\n",
    "## Support Vector Machines\n",
    "\n",
    "#### Support Vector Machines applicability:\n",
    "In chemistry, elements tend to have particular characteristics that are integer, such as atomic mass, charge, eletronic spin, etc, the SVM method takes advantage of those clear margins between the features to classify the records utilizing lines, planes and hyperplanes (depending on the record dimensionality) as we can see in this article (page 59), there's a section where they use this algorithm to classify the similarity between sequences of aminoacidis, this is a key point to predict this sequence biological properties.\n",
    "\n",
    "http://www.ivanciuc.org/Files/Reprint/Ivanciuc_Applications_of_Support_Vector_Machines_in_Chemistry.pdf\n",
    "\n",
    "\n",
    "#### Support Vector Machines strenghts:\n",
    "It works better when there's a clear margin between the classifiers;\n",
    "\n",
    "It works well in models with several dimensions;\n",
    "\n",
    "It is effective when there are more dimensions than samples;\n",
    "\n",
    "#### Support Vector Machines weaknesses:\n",
    "It requires a lot of processing to perform;\n",
    "\n",
    "It doesn't perform well when dimensions are overlaping;\n",
    "\n",
    "#### Why it's a good model for this problem:\n",
    "Dataset is small, so there is no concern about performance. Therefore, this model would fit if the classes are free from too much noise.\n",
    "\n",
    "## Random Forest\n",
    "\n",
    "#### Random Forest applicability:\n",
    "Random Forest is the method that creates several classifiers and aggregate its results, this method can be implemented in computer vision to classify parts of the body, it basically generates several different decision trees and once new data comes, the algorithm passes this data in each decision tree, they all take its guess about what part this data is and than we see which part got the most votes. We can see an application of this method in this article:\n",
    "\n",
    "http://pages.iai.uni-bonn.de/frintrop_simone//BVW13/BVW-gall.pdf\n",
    "\n",
    "#### Random Forest strenghts:\n",
    "It has a great performance among other algorithms;\n",
    "\n",
    "It runs well enough in large datasets;\n",
    "\n",
    "The overfitting can be reduced by increasing the number of trees;\n",
    "\n",
    "#### Random Forest weaknesses:\n",
    "It can be very sensitive to small perturbations on the data;\n",
    "\n",
    "It's hard to avoid overfitting. Prior analysis are required for that;\n",
    "\n",
    "#### Why it's a good model for this problem:\n",
    "This model can generalize very well among other models and it shows a very high rate of accuracy."
   ]
  },
  {
   "cell_type": "markdown",
   "metadata": {},
   "source": [
    "### Setup\n",
    "Run the code cell below to initialize three helper functions which you can use for training and testing the three supervised learning models you've chosen above. The functions are as follows:\n",
    "- `train_classifier` - takes as input a classifier and training data and fits the classifier to the data.\n",
    "- `predict_labels` - takes as input a fit classifier, features, and a target labeling and makes predictions using the F<sub>1</sub> score.\n",
    "- `train_predict` - takes as input a classifier, and the training and testing data, and performs `train_clasifier` and `predict_labels`.\n",
    " - This function will report the F<sub>1</sub> score for both the training and testing data separately."
   ]
  },
  {
   "cell_type": "code",
   "execution_count": 119,
   "metadata": {
    "collapsed": false
   },
   "outputs": [],
   "source": [
    "def train_classifier(clf, X_train, y_train):\n",
    "    ''' Fits a classifier to the training data. '''\n",
    "    \n",
    "    # Start the clock, train the classifier, then stop the clock\n",
    "    start = time()\n",
    "    clf.fit(X_train, y_train)\n",
    "    end = time()\n",
    "    \n",
    "    # Print the results\n",
    "    print \"Trained model in {:.4f} seconds\".format(end - start)\n",
    "\n",
    "    \n",
    "def predict_labels(clf, features, target):\n",
    "    ''' Makes predictions using a fit classifier based on F1 score. '''\n",
    "    \n",
    "    # Start the clock, make predictions, then stop the clock\n",
    "    start = time()\n",
    "    y_pred = clf.predict(features)\n",
    "    end = time()\n",
    "    \n",
    "    # Print and return results\n",
    "    print \"Made predictions in {:.4f} seconds.\".format(end - start)\n",
    "    return f1_score(target.values, y_pred, pos_label='yes')\n",
    "\n",
    "\n",
    "def train_predict(clf, X_train, y_train, X_test, y_test):\n",
    "    ''' Train and predict using a classifer based on F1 score. '''\n",
    "    \n",
    "    # Indicate the classifier and the training set size\n",
    "    print \"Training a {} using a training set size of {}. . .\".format(clf.__class__.__name__, len(X_train))\n",
    "    \n",
    "    # Train the classifier\n",
    "    train_classifier(clf, X_train, y_train)\n",
    "    \n",
    "    # Print the results of prediction for both training and testing\n",
    "    print \"F1 score for training set: {:.4f}.\".format(predict_labels(clf, X_train, y_train))\n",
    "    print \"F1 score for test set: {:.4f}.\".format(predict_labels(clf, X_test, y_test))"
   ]
  },
  {
   "cell_type": "markdown",
   "metadata": {},
   "source": [
    "### Implementation: Model Performance Metrics\n",
    "With the predefined functions above, you will now import the three supervised learning models of your choice and run the `train_predict` function for each one. Remember that you will need to train and predict on each classifier for three different training set sizes: 100, 200, and 300. Hence, you should expect to have 9 different outputs below — 3 for each model using the varying training set sizes. In the following code cell, you will need to implement the following:\n",
    "- Import the three supervised learning models you've discussed in the previous section.\n",
    "- Initialize the three models and store them in `clf_A`, `clf_B`, and `clf_C`.\n",
    " - Use a `random_state` for each model you use, if provided.\n",
    " - **Note:** Use the default settings for each model — you will tune one specific model in a later section.\n",
    "- Create the different training set sizes to be used to train each model.\n",
    " - *Do not reshuffle and resplit the data! The new training points should be drawn from `X_train` and `y_train`.*\n",
    "- Fit each model with each training set size and make predictions on the test set (9 in total).  \n",
    "**Note:** Three tables are provided after the following code cell which can be used to store your results."
   ]
  },
  {
   "cell_type": "code",
   "execution_count": 120,
   "metadata": {
    "collapsed": false
   },
   "outputs": [
    {
     "name": "stdout",
     "output_type": "stream",
     "text": [
      "Training a GaussianNB using a training set size of 300. . .\n",
      "Trained model in 0.0020 seconds\n",
      "Made predictions in 0.0010 seconds.\n",
      "F1 score for training set: 0.8134.\n",
      "Made predictions in 0.0010 seconds.\n",
      "F1 score for test set: 0.7761.\n",
      "\n",
      "\n",
      "Training a GaussianNB using a training set size of 200. . .\n",
      "Trained model in 0.0020 seconds\n",
      "Made predictions in 0.0010 seconds.\n",
      "F1 score for training set: 0.8060.\n",
      "Made predictions in 0.0000 seconds.\n",
      "F1 score for test set: 0.7218.\n",
      "\n",
      "\n",
      "Training a GaussianNB using a training set size of 100. . .\n",
      "Trained model in 0.0010 seconds\n",
      "Made predictions in 0.0000 seconds.\n",
      "F1 score for training set: 0.7752.\n",
      "Made predictions in 0.0010 seconds.\n",
      "F1 score for test set: 0.6457.\n",
      "\n",
      "\n",
      "Training a SVC using a training set size of 300. . .\n",
      "Trained model in 0.0160 seconds\n",
      "Made predictions in 0.0090 seconds.\n",
      "F1 score for training set: 0.8664.\n",
      "Made predictions in 0.0030 seconds.\n",
      "F1 score for test set: 0.8052.\n",
      "\n",
      "\n",
      "Training a SVC using a training set size of 200. . .\n",
      "Trained model in 0.0080 seconds\n",
      "Made predictions in 0.0040 seconds.\n",
      "F1 score for training set: 0.8431.\n",
      "Made predictions in 0.0020 seconds.\n",
      "F1 score for test set: 0.8105.\n",
      "\n",
      "\n",
      "Training a SVC using a training set size of 100. . .\n",
      "Trained model in 0.0020 seconds\n",
      "Made predictions in 0.0020 seconds.\n",
      "F1 score for training set: 0.8354.\n",
      "Made predictions in 0.0010 seconds.\n",
      "F1 score for test set: 0.8025.\n",
      "\n",
      "\n",
      "Training a RandomForestClassifier using a training set size of 300. . .\n",
      "Trained model in 0.0320 seconds\n",
      "Made predictions in 0.0020 seconds.\n",
      "F1 score for training set: 0.9975.\n",
      "Made predictions in 0.0020 seconds.\n",
      "F1 score for test set: 0.7132.\n",
      "\n",
      "\n",
      "Training a RandomForestClassifier using a training set size of 200. . .\n",
      "Trained model in 0.0270 seconds\n",
      "Made predictions in 0.0020 seconds.\n",
      "F1 score for training set: 0.9885.\n",
      "Made predictions in 0.0010 seconds.\n",
      "F1 score for test set: 0.6822.\n",
      "\n",
      "\n",
      "Training a RandomForestClassifier using a training set size of 100. . .\n",
      "Trained model in 0.0250 seconds\n",
      "Made predictions in 0.0020 seconds.\n",
      "F1 score for training set: 0.9924.\n",
      "Made predictions in 0.0010 seconds.\n",
      "F1 score for test set: 0.7368.\n",
      "\n",
      "\n"
     ]
    }
   ],
   "source": [
    "# TODO: Import the three supervised learning models from sklearn\n",
    "from sklearn.naive_bayes import GaussianNB\n",
    "from sklearn.svm import SVC\n",
    "from sklearn.ensemble import RandomForestClassifier\n",
    "\n",
    "# TODO: Initialize the three models\n",
    "clf_A = GaussianNB()\n",
    "clf_B = SVC(random_state=42)\n",
    "clf_C = RandomForestClassifier(random_state=42)\n",
    "\n",
    "# TODO: Set up the training set sizes\n",
    "for clf in [clf_A, clf_B, clf_C]:\n",
    "    for n in [300, 200, 100]:\n",
    "        X_train_n = X_train[:n]\n",
    "        y_train_n = y_train[:n]\n",
    "        train_predict(clf, X_train_n, y_train_n, X_test, y_test)\n",
    "        print '\\n'"
   ]
  },
  {
   "cell_type": "markdown",
   "metadata": {},
   "source": [
    "### Tabular Results\n",
    "Edit the cell below to see how a table can be designed in [Markdown](https://github.com/adam-p/markdown-here/wiki/Markdown-Cheatsheet#tables). You can record your results from above in the tables provided."
   ]
  },
  {
   "cell_type": "markdown",
   "metadata": {},
   "source": [
    "** Classifer 1 - Naive Bayes**  \n",
    "\n",
    "| Training Set Size | Training Time | Prediction Time (test) | F1 Score (train) | F1 Score (test) |\n",
    "| :---------------: | :---------------------: | :--------------------: | :--------------: | :-------------: |\n",
    "| 100               | 0.0010                  |  0.0000                | 0.7752           | 0.6457          |\n",
    "| 200               | 0.0020                  |  0.0010                | 0.8060           | 0.7218          |\n",
    "| 300               | 0.0020                  |  0.0010                | 0.8134           | 0.7761          |\n",
    "\n",
    "** Classifer 2 - SVM **  \n",
    "\n",
    "| Training Set Size | Training Time | Prediction Time (test) | F1 Score (train) | F1 Score (test) |\n",
    "| :---------------: | :---------------------: | :--------------------: | :--------------: | :-------------: |\n",
    "| 100               | 0.0020                  | 0.0020                 | 0.8354           | 0.8025          |\n",
    "| 200               | 0.0080                  | 0.0040                 | 0.8431           | 0.8105          |\n",
    "| 300               | 0.0160                  | 0.0090                 | 0.8664           | 0.8052          |\n",
    "\n",
    "** Classifer 3 - Random Forest **  \n",
    "\n",
    "| Training Set Size | Training Time | Prediction Time (test) | F1 Score (train) | F1 Score (test) |\n",
    "| :---------------: | :---------------------: | :--------------------: | :--------------: | :-------------: |\n",
    "| 100               | 0.0250                  | 0.0020                 | 0.9924           | 0.7368          |\n",
    "| 200               | 0.0270                  | 0.0020                 | 0.9885           | 0.6822          |\n",
    "| 300               | 0.0320                  | 0.0020                 | 0.9975           | 0.7132          |"
   ]
  },
  {
   "cell_type": "markdown",
   "metadata": {},
   "source": [
    "## Choosing the Best Model\n",
    "In this final section, you will choose from the three supervised learning models the *best* model to use on the student data. You will then perform a grid search optimization for the model over the entire training set (`X_train` and `y_train`) by tuning at least one parameter to improve upon the untuned model's F<sub>1</sub> score. "
   ]
  },
  {
   "cell_type": "markdown",
   "metadata": {},
   "source": [
    "### Question 3 - Choosing the Best Model\n",
    "*Based on the experiments you performed earlier, in one to two paragraphs, explain to the board of supervisors what single model you chose as the best model. Which model is generally the most appropriate based on the available data, limited resources, cost, and performance?*"
   ]
  },
  {
   "cell_type": "markdown",
   "metadata": {},
   "source": [
    "**Answer: ** First, i'll check how the model is performing based on different train/test ratios, let's see what this will get me"
   ]
  },
  {
   "cell_type": "code",
   "execution_count": 131,
   "metadata": {
    "collapsed": false,
    "scrolled": true
   },
   "outputs": [
    {
     "name": "stdout",
     "output_type": "stream",
     "text": [
      "Trained model in 0.0010 seconds\n",
      "Made predictions in 0.0020 seconds.\n",
      "Trained model in 0.0010 seconds\n",
      "Made predictions in 0.0010 seconds.\n",
      "Trained model in 0.0010 seconds\n",
      "Made predictions in 0.0000 seconds.\n",
      "Trained model in 0.0000 seconds\n",
      "Made predictions in 0.0000 seconds.\n",
      "Trained model in 0.0020 seconds\n",
      "Made predictions in 0.0010 seconds.\n",
      "Trained model in 0.0030 seconds\n",
      "Made predictions in 0.0010 seconds.\n",
      "Trained model in 0.0020 seconds\n",
      "Made predictions in 0.0000 seconds.\n",
      "Trained model in 0.0020 seconds\n",
      "Made predictions in 0.0010 seconds.\n",
      "Trained model in 0.0020 seconds\n",
      "Made predictions in 0.0010 seconds.\n",
      "Trained model in 0.0020 seconds\n",
      "Made predictions in 0.0000 seconds.\n",
      "Trained model in 0.0020 seconds\n",
      "Made predictions in 0.0010 seconds.\n",
      "Trained model in 0.0030 seconds\n",
      "Made predictions in 0.0010 seconds.\n",
      "Trained model in 0.0020 seconds\n",
      "Made predictions in 0.0010 seconds.\n",
      "Trained model in 0.0020 seconds\n",
      "Made predictions in 0.0000 seconds.\n",
      "Trained model in 0.0010 seconds\n",
      "Made predictions in 0.0010 seconds.\n",
      "Trained model in 0.0010 seconds\n",
      "Made predictions in 0.0000 seconds.\n",
      "Trained model in 0.0020 seconds\n",
      "Made predictions in 0.0000 seconds.\n",
      "Trained model in 0.0010 seconds\n",
      "Made predictions in 0.0010 seconds.\n",
      "Trained model in 0.0010 seconds\n",
      "Made predictions in 0.0010 seconds.\n",
      "Trained model in 0.0010 seconds\n",
      "Made predictions in 0.0000 seconds.\n",
      "Trained model in 0.0010 seconds\n",
      "Made predictions in 0.0000 seconds.\n",
      "Trained model in 0.0020 seconds\n",
      "Made predictions in 0.0000 seconds.\n",
      "Trained model in 0.0010 seconds\n",
      "Made predictions in 0.0010 seconds.\n",
      "Trained model in 0.0010 seconds\n",
      "Made predictions in 0.0010 seconds.\n",
      "Trained model in 0.0010 seconds\n",
      "Made predictions in 0.0010 seconds.\n",
      "Trained model in 0.0010 seconds\n",
      "Made predictions in 0.0000 seconds.\n",
      "Trained model in 0.0010 seconds\n",
      "Made predictions in 0.0010 seconds.\n",
      "Trained model in 0.0010 seconds\n",
      "Made predictions in 0.0010 seconds.\n",
      "Trained model in 0.0010 seconds\n",
      "Made predictions in 0.0010 seconds.\n",
      "Trained model in 0.0010 seconds\n",
      "Made predictions in 0.0010 seconds.\n",
      "Trained model in 0.0020 seconds\n",
      "Made predictions in 0.0000 seconds.\n",
      "Trained model in 0.0010 seconds\n",
      "Made predictions in 0.0010 seconds.\n",
      "Trained model in 0.0020 seconds\n",
      "Made predictions in 0.0010 seconds.\n",
      "Trained model in 0.0020 seconds\n",
      "Made predictions in 0.0010 seconds.\n",
      "Trained model in 0.0020 seconds\n",
      "Made predictions in 0.0010 seconds.\n",
      "Trained model in 0.0030 seconds\n",
      "Made predictions in 0.0010 seconds.\n",
      "Trained model in 0.0030 seconds\n",
      "Made predictions in 0.0010 seconds.\n",
      "Trained model in 0.0030 seconds\n",
      "Made predictions in 0.0020 seconds.\n",
      "Trained model in 0.0030 seconds\n",
      "Made predictions in 0.0020 seconds.\n",
      "Trained model in 0.0040 seconds\n",
      "Made predictions in 0.0010 seconds.\n",
      "Trained model in 0.0040 seconds\n",
      "Made predictions in 0.0010 seconds.\n",
      "Trained model in 0.0040 seconds\n",
      "Made predictions in 0.0020 seconds.\n",
      "Trained model in 0.0050 seconds\n",
      "Made predictions in 0.0020 seconds.\n",
      "Trained model in 0.0050 seconds\n",
      "Made predictions in 0.0010 seconds.\n",
      "Trained model in 0.0050 seconds\n",
      "Made predictions in 0.0020 seconds.\n",
      "Trained model in 0.0230 seconds\n",
      "Made predictions in 0.0030 seconds.\n",
      "Trained model in 0.0070 seconds\n",
      "Made predictions in 0.0010 seconds.\n",
      "Trained model in 0.0090 seconds\n",
      "Made predictions in 0.0140 seconds.\n",
      "Trained model in 0.0110 seconds\n",
      "Made predictions in 0.0020 seconds.\n",
      "Trained model in 0.0080 seconds\n",
      "Made predictions in 0.0020 seconds.\n",
      "Trained model in 0.0080 seconds\n",
      "Made predictions in 0.0020 seconds.\n",
      "Trained model in 0.0090 seconds\n",
      "Made predictions in 0.0030 seconds.\n",
      "Trained model in 0.0270 seconds\n",
      "Made predictions in 0.0010 seconds.\n",
      "Trained model in 0.0250 seconds\n",
      "Made predictions in 0.0010 seconds.\n",
      "Trained model in 0.0260 seconds\n",
      "Made predictions in 0.0020 seconds.\n",
      "Trained model in 0.0270 seconds\n",
      "Made predictions in 0.0010 seconds.\n",
      "Trained model in 0.0250 seconds\n",
      "Made predictions in 0.0010 seconds.\n",
      "Trained model in 0.0240 seconds\n",
      "Made predictions in 0.0020 seconds.\n",
      "Trained model in 0.0240 seconds\n",
      "Made predictions in 0.0010 seconds.\n",
      "Trained model in 0.0260 seconds\n",
      "Made predictions in 0.0010 seconds.\n",
      "Trained model in 0.0250 seconds\n",
      "Made predictions in 0.0010 seconds.\n",
      "Trained model in 0.0260 seconds\n",
      "Made predictions in 0.0010 seconds.\n",
      "Trained model in 0.0270 seconds\n",
      "Made predictions in 0.0020 seconds.\n",
      "Trained model in 0.0280 seconds\n",
      "Made predictions in 0.0010 seconds.\n",
      "Trained model in 0.0350 seconds\n",
      "Made predictions in 0.0220 seconds.\n",
      "Trained model in 0.0570 seconds\n",
      "Made predictions in 0.0050 seconds.\n",
      "Trained model in 0.0640 seconds\n",
      "Made predictions in 0.0040 seconds.\n",
      "Trained model in 0.0560 seconds\n",
      "Made predictions in 0.0040 seconds.\n",
      "Trained model in 0.0550 seconds\n",
      "Made predictions in 0.0020 seconds.\n",
      "Trained model in 0.0520 seconds\n",
      "Made predictions in 0.0040 seconds.\n",
      "Trained model in 0.0560 seconds\n",
      "Made predictions in 0.0020 seconds.\n",
      "Trained model in 0.0580 seconds\n",
      "Made predictions in 0.0040 seconds.\n",
      "Trained model in 0.0760 seconds\n",
      "Made predictions in 0.0030 seconds.\n",
      "Trained model in 0.0690 seconds\n",
      "Made predictions in 0.0060 seconds.\n",
      "Trained model in 0.0440 seconds\n",
      "Made predictions in 0.0010 seconds.\n",
      "Trained model in 0.0440 seconds\n",
      "Made predictions in 0.0020 seconds.\n",
      "Trained model in 0.1040 seconds\n",
      "Made predictions in 0.0050 seconds.\n",
      "Trained model in 0.1090 seconds\n",
      "Made predictions in 0.0090 seconds.\n"
     ]
    }
   ],
   "source": [
    "import matplotlib.pyplot as plt\n",
    "\n",
    "step_size = 10\n",
    "\n",
    "def get_F1(clf, training_set_size):\n",
    "        X_train_sample = X_train[:training_set_size]\n",
    "        y_train_sample = y_train[:training_set_size]\n",
    "        train_classifier(clf, X_train_sample, y_train_sample)\n",
    "        return predict_labels(clf, X_test, y_test)\n",
    "    \n",
    "f1_list_all = []\n",
    "for clf in [clf_A, clf_B, clf_C]:\n",
    "    f1_list = []\n",
    "    for training_set_size in range(50,301,step_size):\n",
    "        f1_list.append(get_F1(clf, training_set_size))\n",
    "    f1_list_all.append(f1_list)\n",
    "    \n",
    "# Plot all lines, i changed the step for 1, 5 and 10 just to see the differences #\n",
    "plt.plot(range(50,301,step_size), f1_list_all[0], label='Naive Bayes')\n",
    "plt.plot(range(50,301,step_size), f1_list_all[1], label='SVM')\n",
    "plt.plot(range(50,301,step_size), f1_list_all[2], label='Random Forest')\n",
    "\n",
    "# Config axis #\n",
    "plt.xlabel('Training set size')\n",
    "plt.ylabel('F1 score')\n",
    "plt.legend(loc=4)  \n",
    "\n",
    "# Print  Chart #\n",
    "plt.show()"
   ]
  },
  {
   "cell_type": "code",
   "execution_count": 132,
   "metadata": {
    "collapsed": false
   },
   "outputs": [
    {
     "name": "stdout",
     "output_type": "stream",
     "text": [
      "F1 mean for:\n",
      "Naive Bayes : 0.6926\n",
      "SVM (SVC) model : 0.8026\n",
      "Random Forests model : 0.7210\n"
     ]
    }
   ],
   "source": [
    "print 'F1 mean for:'\n",
    "print 'Naive Bayes : {:.4f}'.format(np.mean(f1_list_all[0]))\n",
    "print 'SVM (SVC) model : {:.4f}'.format(np.mean(f1_list_all[1]))\n",
    "print 'Random Forests model : {:.4f}'.format(np.mean(f1_list_all[2]))"
   ]
  },
  {
   "cell_type": "markdown",
   "metadata": {},
   "source": [
    "Those are the charts and mean values for each step that i found\n",
    "\n",
    "| Step Size         | Naive Bayes | SVM | Random Forest |\n",
    "| :---------------: | :---------------------: | :--------------------: | :--------------: |\n",
    "| 1                 | 0.6946                  |  0.8021                | 0.7282           |\n",
    "| 5                 | 0.6952                  |  0.8023                | 0.7238           |\n",
    "| 10                | 0.6926                  |  0.8026                | 0.7210           |\n",
    "\n",
    "Indeed this doesn't vary much considering several train sets (step 1) and generalizing using bigger steps"
   ]
  },
  {
   "cell_type": "markdown",
   "metadata": {},
   "source": [
    "### Step 1\n",
    "<img src=\"img/step1.png\">\n",
    "\n",
    "### Step 5\n",
    "<img src=\"img/step5.png\">\n",
    "\n",
    "### Step 10\n",
    "<img src=\"img/step10.png\">"
   ]
  },
  {
   "cell_type": "markdown",
   "metadata": {},
   "source": [
    "Using these charts, we can tell that the SVM is the model that has less noise compared to the others. That, combined with its biggest f1 mean for all the tests that i did on the test set, makes this model the one i would chose for this particular problem, even knowing that the Naive Bayes takes less time to run, in this particular problem that we have such a small data set."
   ]
  },
  {
   "cell_type": "markdown",
   "metadata": {},
   "source": [
    "### Question 4 - Model in Layman's Terms\n",
    "*In one to two paragraphs, explain to the board of directors in layman's terms how the final model chosen is supposed to work. Be sure that you are describing the major qualities of the model, such as how the model is trained and how the model makes a prediction. Avoid using advanced mathematical or technical jargon, such as describing equations or discussing the algorithm implementation.*"
   ]
  },
  {
   "cell_type": "markdown",
   "metadata": {},
   "source": [
    "**Answer: ** The model that we selected for this problem uses the advantage of the clear separation between the classifiers to take its guesses. For example, imagine that we want to separate 100 red balls from 100 blue balls. Appart from the color, these balls are located in 2 different rooms. In the first scenario, we can see both rooms, so we analyze that 90% of the red balls are in the left room and 10% of the red balls in right room. A moment later, the light of the rooms is turned off, a person comes to you from the left room and another from the right room. Each one of them gives you a ball, and you must choose the ball color without turning the lights on.\n",
    "\n",
    "Because of the previous knowledge you had (when the lights were on) your best guess is that the ball from the left room is red and the other one is blue. You guess that because you have mentally drawn a line between the rooms, using that separation to minimize the errors. Now imagine that apart from that information, you know that the red balls tend to be heavier and the blue balls tend to be lighter. Once you get them in your hands, you can combine the information given (where they came plus their weight) to improve even more your guess.\n",
    "\n",
    "This is basically what this model does, it trace lines between the parameters to separate the classes, once you have more parameters, it traces planes between them (called hyperplanes), a simple representation of this model is the following:\n",
    "\n",
    "<img src=\"img/diagram_svm_maximal_margin.gif\">\n",
    "\n",
    "When we start adding more dimensions, the visualization can become pretty complex, so this model is usualy represented in 2d or 3d for better understandment.\n",
    "\n",
    "<img src=\"img/svm.png\">"
   ]
  },
  {
   "cell_type": "markdown",
   "metadata": {},
   "source": [
    "### Implementation: Model Tuning\n",
    "Fine tune the chosen model. Use grid search (`GridSearchCV`) with at least one important parameter tuned with at least 3 different values. You will need to use the entire training set for this. In the code cell below, you will need to implement the following:\n",
    "- Import [`sklearn.grid_search.gridSearchCV`](http://scikit-learn.org/stable/modules/generated/sklearn.grid_search.GridSearchCV.html) and [`sklearn.metrics.make_scorer`](http://scikit-learn.org/stable/modules/generated/sklearn.metrics.make_scorer.html).\n",
    "- Create a dictionary of parameters you wish to tune for the chosen model.\n",
    " - Example: `parameters = {'parameter' : [list of values]}`.\n",
    "- Initialize the classifier you've chosen and store it in `clf`.\n",
    "- Create the F<sub>1</sub> scoring function using `make_scorer` and store it in `f1_scorer`.\n",
    " - Set the `pos_label` parameter to the correct value!\n",
    "- Perform grid search on the classifier `clf` using `f1_scorer` as the scoring method, and store it in `grid_obj`.\n",
    "- Fit the grid search object to the training data (`X_train`, `y_train`), and store it in `grid_obj`."
   ]
  },
  {
   "cell_type": "code",
   "execution_count": 135,
   "metadata": {
    "collapsed": false
   },
   "outputs": [
    {
     "name": "stdout",
     "output_type": "stream",
     "text": [
      "Made predictions in 0.0050 seconds.\n",
      "Tuned model has a training F1 score of 0.8319.\n",
      "Made predictions in 0.0020 seconds.\n",
      "Tuned model has a testing F1 score of 0.7947.\n"
     ]
    }
   ],
   "source": [
    "# TODO: Import 'GridSearchCV' and 'make_scorer'\n",
    "from sklearn.grid_search import GridSearchCV \n",
    "from sklearn.metrics import make_scorer\n",
    "\n",
    "# TODO: Create the parameters list you wish to tune\n",
    "parameters = {'kernel':['linear', 'rbf', 'poly', 'sigmoid'], \"C\":[pow(2, c) for c in range(-3, 3)], \n",
    "              \"gamma\":[pow(2, g) for g in range(-3, 3)], \"degree\":[d for d in range(1, 10)]}\n",
    "\n",
    "# TODO: Initialize the classifier\n",
    "clf = SVC(random_state=42)\n",
    "\n",
    "# TODO: Make an f1 scoring function using 'make_scorer' \n",
    "f1_scorer = make_scorer(f1_score, pos_label='yes')\n",
    "\n",
    "# TODO: Perform grid search on the classifier using the f1_scorer as the scoring method\n",
    "grid_obj = GridSearchCV(clf, param_grid=parameters, scoring=f1_scorer)\n",
    "\n",
    "# TODO: Fit the grid search object to the training data and find the optimal parameters\n",
    "grid_obj = grid_obj.fit(X_train, y_train)\n",
    "\n",
    "# Get the estimator\n",
    "clf = grid_obj.best_estimator_\n",
    "\n",
    "# Report the final F1 score for training and testing after parameter tuning\n",
    "print \"Tuned model has a training F1 score of {:.4f}.\".format(predict_labels(clf, X_train, y_train))\n",
    "print \"Tuned model has a testing F1 score of {:.4f}.\".format(predict_labels(clf, X_test, y_test))"
   ]
  },
  {
   "cell_type": "markdown",
   "metadata": {},
   "source": [
    "### Question 5 - Final F<sub>1</sub> Score\n",
    "*What is the final model's F<sub>1</sub> score for training and testing? How does that score compare to the untuned model?*"
   ]
  },
  {
   "cell_type": "markdown",
   "metadata": {},
   "source": [
    "**Answer: ** With this tuned model, we got the following:\n",
    "* Training F1 Score 0.8319 (previous was 0.8431)\n",
    "* Testing F1 Score 0.7947 (previous was 0.8105)\n",
    "\n",
    "I have explored several hyperparameters values and some combinations as a strategy of exaustive grid search so i can be sure i will get the best fit possible for this dataset. This result show us a better model against the non tuned one. The gap between the testing data and training data tends to be smaller in better models. That means we managed to avoid some of the overfitting that we had in the non tuned model."
   ]
  },
  {
   "cell_type": "markdown",
   "metadata": {},
   "source": [
    "> **Note**: Once you have completed all of the code implementations and successfully answered each question above, you may finalize your work by exporting the iPython Notebook as an HTML document. You can do this by using the menu above and navigating to  \n",
    "**File -> Download as -> HTML (.html)**. Include the finished document along with this notebook as your submission."
   ]
  }
 ],
 "metadata": {
  "anaconda-cloud": {},
  "kernelspec": {
   "display_name": "Python [Root]",
   "language": "python",
   "name": "Python [Root]"
  },
  "language_info": {
   "codemirror_mode": {
    "name": "ipython",
    "version": 2
   },
   "file_extension": ".py",
   "mimetype": "text/x-python",
   "name": "python",
   "nbconvert_exporter": "python",
   "pygments_lexer": "ipython2",
   "version": "2.7.12"
  }
 },
 "nbformat": 4,
 "nbformat_minor": 0
}
